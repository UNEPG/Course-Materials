{
 "cells": [
  {
   "cell_type": "code",
   "execution_count": 1,
   "metadata": {},
   "outputs": [],
   "source": [
    "cd /"
   ]
  },
  {
   "cell_type": "code",
   "execution_count": 2,
   "metadata": {},
   "outputs": [
    {
     "name": "stdout",
     "output_type": "stream",
     "text": [
      "/\n"
     ]
    }
   ],
   "source": [
    "pwd"
   ]
  },
  {
   "cell_type": "code",
   "execution_count": 3,
   "metadata": {},
   "outputs": [
    {
     "name": "stdout",
     "output_type": "stream",
     "text": [
      "bin    etc             lib         mkdir  root  srv       usr\n",
      "boot   home            lib64       mnt    run   swap.img  var\n",
      "cdrom  initrd.img      lost+found  opt    sbin  sys       vmlinuz\n",
      "dev    initrd.img.old  media       proc   snap  tmp       vmlinuz.old\n"
     ]
    }
   ],
   "source": [
    "ls"
   ]
  },
  {
   "cell_type": "code",
   "execution_count": 4,
   "metadata": {},
   "outputs": [
    {
     "name": "stdout",
     "output_type": "stream",
     "text": [
      "/opt/tljh/user/bin/python\n"
     ]
    }
   ],
   "source": [
    "which python"
   ]
  },
  {
   "cell_type": "code",
   "execution_count": 5,
   "metadata": {},
   "outputs": [],
   "source": [
    "cd /dev"
   ]
  },
  {
   "cell_type": "code",
   "execution_count": 6,
   "metadata": {},
   "outputs": [
    {
     "name": "stdout",
     "output_type": "stream",
     "text": [
      "autofs           kmsg                sda1      tty3   tty6       ttyS30\n",
      "block            kvm                 sda2      tty30  tty60      ttyS31\n",
      "bsg              lightnvm            sg0       tty31  tty61      ttyS4\n",
      "btrfs-control    log                 shm       tty32  tty62      ttyS5\n",
      "bus              loop0               snapshot  tty33  tty63      ttyS6\n",
      "char             loop1               snd       tty34  tty7       ttyS7\n",
      "console          loop2               stderr    tty35  tty8       ttyS8\n",
      "core             loop3               stdin     tty36  tty9       ttyS9\n",
      "cpu              loop4               stdout    tty37  ttyprintk  uhid\n",
      "cpu_dma_latency  loop5               tty       tty38  ttyS0      uinput\n",
      "cuse             loop6               tty0      tty39  ttyS1      urandom\n",
      "disk             loop7               tty1      tty4   ttyS10     usb\n",
      "dri              loop-control        tty10     tty40  ttyS11     userio\n",
      "ecryptfs         mapper              tty11     tty41  ttyS12     vcs\n",
      "fb0              mcelog              tty12     tty42  ttyS13     vcs1\n",
      "fd               mei0                tty13     tty43  ttyS14     vcs2\n",
      "full             mem                 tty14     tty44  ttyS15     vcs3\n",
      "fuse             memory_bandwidth    tty15     tty45  ttyS16     vcs4\n",
      "hidraw0          mqueue              tty16     tty46  ttyS17     vcs5\n",
      "hidraw1          net                 tty17     tty47  ttyS18     vcs6\n",
      "hpet             network_latency     tty18     tty48  ttyS19     vcsa\n",
      "hugepages        network_throughput  tty19     tty49  ttyS2      vcsa1\n",
      "hwrng            null                tty2      tty5   ttyS20     vcsa2\n",
      "i2c-0            port                tty20     tty50  ttyS21     vcsa3\n",
      "i2c-1            ppp                 tty21     tty51  ttyS22     vcsa4\n",
      "i2c-2            psaux               tty22     tty52  ttyS23     vcsa5\n",
      "i2c-3            ptmx                tty23     tty53  ttyS24     vcsa6\n",
      "i2c-4            pts                 tty24     tty54  ttyS25     vfio\n",
      "i2c-5            random              tty25     tty55  ttyS26     vga_arbiter\n",
      "i2c-6            rfkill              tty26     tty56  ttyS27     vhci\n",
      "i2c-7            rtc                 tty27     tty57  ttyS28     vhost-net\n",
      "initctl          rtc0                tty28     tty58  ttyS29     vhost-vsock\n",
      "input            sda                 tty29     tty59  ttyS3      zero\n"
     ]
    }
   ],
   "source": [
    "ls"
   ]
  },
  {
   "cell_type": "code",
   "execution_count": 7,
   "metadata": {},
   "outputs": [],
   "source": [
    "cd /"
   ]
  },
  {
   "cell_type": "code",
   "execution_count": 8,
   "metadata": {},
   "outputs": [
    {
     "name": "stdout",
     "output_type": "stream",
     "text": [
      "bin    etc             lib         mkdir  root  srv       usr\n",
      "boot   home            lib64       mnt    run   swap.img  var\n",
      "cdrom  initrd.img      lost+found  opt    sbin  sys       vmlinuz\n",
      "dev    initrd.img.old  media       proc   snap  tmp       vmlinuz.old\n"
     ]
    }
   ],
   "source": [
    "ls"
   ]
  },
  {
   "cell_type": "code",
   "execution_count": 9,
   "metadata": {},
   "outputs": [],
   "source": [
    "cd "
   ]
  },
  {
   "cell_type": "code",
   "execution_count": 10,
   "metadata": {},
   "outputs": [
    {
     "name": "stdout",
     "output_type": "stream",
     "text": [
      "/home/jupyter-unisatkz\n"
     ]
    }
   ],
   "source": [
    "pwd"
   ]
  },
  {
   "cell_type": "code",
   "execution_count": 11,
   "metadata": {},
   "outputs": [
    {
     "name": "stdout",
     "output_type": "stream",
     "text": [
      "shared  Untitled1.ipynb  Untitled.ipynb\n"
     ]
    }
   ],
   "source": [
    "ls"
   ]
  },
  {
   "cell_type": "code",
   "execution_count": 12,
   "metadata": {},
   "outputs": [],
   "source": [
    "cd /"
   ]
  },
  {
   "cell_type": "code",
   "execution_count": 13,
   "metadata": {},
   "outputs": [
    {
     "name": "stdout",
     "output_type": "stream",
     "text": [
      "bin    etc             lib         mkdir  root  srv       usr\n",
      "boot   home            lib64       mnt    run   swap.img  var\n",
      "cdrom  initrd.img      lost+found  opt    sbin  sys       vmlinuz\n",
      "dev    initrd.img.old  media       proc   snap  tmp       vmlinuz.old\n"
     ]
    }
   ],
   "source": [
    "ls"
   ]
  },
  {
   "cell_type": "code",
   "execution_count": 14,
   "metadata": {},
   "outputs": [],
   "source": [
    "cd "
   ]
  },
  {
   "cell_type": "code",
   "execution_count": 15,
   "metadata": {},
   "outputs": [
    {
     "name": "stdout",
     "output_type": "stream",
     "text": [
      "/home/jupyter-unisatkz\n"
     ]
    }
   ],
   "source": [
    "pwd"
   ]
  },
  {
   "cell_type": "code",
   "execution_count": 16,
   "metadata": {},
   "outputs": [
    {
     "name": "stdout",
     "output_type": "stream",
     "text": [
      "Cola  Mola  shared  Tola  Untitled1.ipynb  Untitled.ipynb\n"
     ]
    }
   ],
   "source": [
    "ls"
   ]
  },
  {
   "cell_type": "code",
   "execution_count": 17,
   "metadata": {},
   "outputs": [
    {
     "name": "stdout",
     "output_type": "stream",
     "text": [
      "Cola:\n",
      "\n",
      "Mola:\n",
      "\n",
      "Tola:\n"
     ]
    }
   ],
   "source": [
    "ls *ola"
   ]
  },
  {
   "cell_type": "code",
   "execution_count": 18,
   "metadata": {},
   "outputs": [
    {
     "name": "stdout",
     "output_type": "stream",
     "text": [
      "Cola:\n",
      "\n",
      "Mola:\n",
      "\n",
      "Tola:\n"
     ]
    }
   ],
   "source": [
    "ls ?ola"
   ]
  },
  {
   "cell_type": "code",
   "execution_count": 19,
   "metadata": {},
   "outputs": [],
   "source": [
    "touch 1.txt"
   ]
  },
  {
   "cell_type": "code",
   "execution_count": 20,
   "metadata": {},
   "outputs": [],
   "source": [
    "touch 2.txt"
   ]
  },
  {
   "cell_type": "code",
   "execution_count": 21,
   "metadata": {},
   "outputs": [
    {
     "name": "stdout",
     "output_type": "stream",
     "text": [
      "1.txt  2.txt  Cola  Mola  shared  Tola  Untitled1.ipynb  Untitled.ipynb\n"
     ]
    }
   ],
   "source": [
    "ls"
   ]
  },
  {
   "cell_type": "code",
   "execution_count": 22,
   "metadata": {},
   "outputs": [
    {
     "name": "stdout",
     "output_type": "stream",
     "text": [
      "1.txt  2.txt\n"
     ]
    }
   ],
   "source": [
    "ls *.txt"
   ]
  },
  {
   "cell_type": "code",
   "execution_count": 23,
   "metadata": {},
   "outputs": [],
   "source": [
    "# ?"
   ]
  },
  {
   "cell_type": "code",
   "execution_count": 24,
   "metadata": {},
   "outputs": [
    {
     "name": "stdout",
     "output_type": "stream",
     "text": [
      "ls: cannot access 'r?ght': No such file or directory\n"
     ]
    },
    {
     "ename": "",
     "evalue": "2",
     "output_type": "error",
     "traceback": []
    }
   ],
   "source": [
    "ls r?ght"
   ]
  },
  {
   "cell_type": "code",
   "execution_count": 25,
   "metadata": {},
   "outputs": [],
   "source": [
    "touch right"
   ]
  },
  {
   "cell_type": "code",
   "execution_count": 26,
   "metadata": {},
   "outputs": [
    {
     "name": "stdout",
     "output_type": "stream",
     "text": [
      "right\n"
     ]
    }
   ],
   "source": [
    "ls r?ght"
   ]
  },
  {
   "cell_type": "code",
   "execution_count": 27,
   "metadata": {},
   "outputs": [],
   "source": [
    "touch riight"
   ]
  },
  {
   "cell_type": "code",
   "execution_count": 28,
   "metadata": {},
   "outputs": [
    {
     "name": "stdout",
     "output_type": "stream",
     "text": [
      "right\n"
     ]
    }
   ],
   "source": [
    "ls r?ght"
   ]
  },
  {
   "cell_type": "code",
   "execution_count": 29,
   "metadata": {},
   "outputs": [
    {
     "name": "stdout",
     "output_type": "stream",
     "text": [
      "right  riight\n"
     ]
    }
   ],
   "source": [
    "ls r*ght"
   ]
  },
  {
   "cell_type": "code",
   "execution_count": 30,
   "metadata": {},
   "outputs": [],
   "source": [
    "# []"
   ]
  },
  {
   "cell_type": "code",
   "execution_count": 31,
   "metadata": {},
   "outputs": [
    {
     "name": "stdout",
     "output_type": "stream",
     "text": [
      "1.txt  2.txt\n"
     ]
    }
   ],
   "source": [
    "ls [1-2].txt"
   ]
  },
  {
   "cell_type": "code",
   "execution_count": 32,
   "metadata": {},
   "outputs": [],
   "source": [
    "touch 10"
   ]
  },
  {
   "cell_type": "code",
   "execution_count": 33,
   "metadata": {},
   "outputs": [
    {
     "name": "stdout",
     "output_type": "stream",
     "text": [
      "1.txt  2.txt\n"
     ]
    }
   ],
   "source": [
    "ls [1-2].txt"
   ]
  },
  {
   "cell_type": "code",
   "execution_count": 35,
   "metadata": {},
   "outputs": [],
   "source": [
    "touch abc"
   ]
  },
  {
   "cell_type": "code",
   "execution_count": 36,
   "metadata": {},
   "outputs": [],
   "source": [
    "touch abcd"
   ]
  },
  {
   "cell_type": "code",
   "execution_count": 38,
   "metadata": {},
   "outputs": [
    {
     "name": "stdout",
     "output_type": "stream",
     "text": [
      "ls: cannot access '[a-z]*.txt': No such file or directory\n"
     ]
    },
    {
     "ename": "",
     "evalue": "2",
     "output_type": "error",
     "traceback": []
    }
   ],
   "source": [
    "ls [a-z]*.txt"
   ]
  },
  {
   "cell_type": "code",
   "execution_count": 39,
   "metadata": {},
   "outputs": [],
   "source": [
    "touch a.txt"
   ]
  },
  {
   "cell_type": "code",
   "execution_count": 40,
   "metadata": {},
   "outputs": [],
   "source": [
    "touch c.txt"
   ]
  },
  {
   "cell_type": "code",
   "execution_count": 41,
   "metadata": {},
   "outputs": [
    {
     "name": "stdout",
     "output_type": "stream",
     "text": [
      "a.txt  c.txt\n"
     ]
    }
   ],
   "source": [
    "ls [a-z]*.txt"
   ]
  },
  {
   "cell_type": "code",
   "execution_count": 42,
   "metadata": {},
   "outputs": [
    {
     "name": "stdout",
     "output_type": "stream",
     "text": [
      "c.txt\n"
     ]
    }
   ],
   "source": [
    "ls [A-Z]*.txt"
   ]
  },
  {
   "cell_type": "code",
   "execution_count": 43,
   "metadata": {},
   "outputs": [],
   "source": [
    "# ^ "
   ]
  },
  {
   "cell_type": "code",
   "execution_count": 44,
   "metadata": {},
   "outputs": [],
   "source": [
    "# ^ means NOT NO"
   ]
  },
  {
   "cell_type": "code",
   "execution_count": 49,
   "metadata": {},
   "outputs": [],
   "source": [
    "# TODO"
   ]
  },
  {
   "cell_type": "code",
   "execution_count": 50,
   "metadata": {},
   "outputs": [],
   "source": [
    "touch a.mp3"
   ]
  },
  {
   "cell_type": "code",
   "execution_count": 51,
   "metadata": {},
   "outputs": [],
   "source": [
    "touch a.jpg"
   ]
  },
  {
   "cell_type": "code",
   "execution_count": 52,
   "metadata": {},
   "outputs": [],
   "source": [
    "touch 3.png"
   ]
  },
  {
   "cell_type": "code",
   "execution_count": 53,
   "metadata": {},
   "outputs": [],
   "source": [
    "touch z.jpg"
   ]
  },
  {
   "cell_type": "code",
   "execution_count": 56,
   "metadata": {},
   "outputs": [],
   "source": [
    "# get all image files? jpg png"
   ]
  },
  {
   "cell_type": "code",
   "execution_count": 57,
   "metadata": {},
   "outputs": [
    {
     "name": "stdout",
     "output_type": "stream",
     "text": [
      "3.png  a.jpg  z.jpg\n"
     ]
    }
   ],
   "source": [
    "ls *.[jp][pn]g"
   ]
  },
  {
   "cell_type": "code",
   "execution_count": 58,
   "metadata": {},
   "outputs": [],
   "source": [
    "#[a-z] ===  a b c d e fg .....z"
   ]
  },
  {
   "cell_type": "code",
   "execution_count": 59,
   "metadata": {},
   "outputs": [],
   "source": [
    "# [abc] a or b or "
   ]
  },
  {
   "cell_type": "code",
   "execution_count": 60,
   "metadata": {},
   "outputs": [
    {
     "name": "stdout",
     "output_type": "stream",
     "text": [
      "3.png  a.jpg  z.jpg\n"
     ]
    }
   ],
   "source": [
    "ls *.[jp][pn]g "
   ]
  },
  {
   "cell_type": "code",
   "execution_count": 62,
   "metadata": {},
   "outputs": [
    {
     "name": "stdout",
     "output_type": "stream",
     "text": [
      "3.png  a.jpg  z.jpg\n"
     ]
    }
   ],
   "source": [
    "ls *.??g  # not recomenden"
   ]
  },
  {
   "cell_type": "code",
   "execution_count": 63,
   "metadata": {},
   "outputs": [],
   "source": [
    "touch 34.azg"
   ]
  },
  {
   "cell_type": "code",
   "execution_count": 64,
   "metadata": {},
   "outputs": [
    {
     "name": "stdout",
     "output_type": "stream",
     "text": [
      "34.azg  3.png  a.jpg  z.jpg\n"
     ]
    }
   ],
   "source": [
    "ls *.??g"
   ]
  },
  {
   "cell_type": "code",
   "execution_count": 65,
   "metadata": {},
   "outputs": [
    {
     "name": "stdout",
     "output_type": "stream",
     "text": [
      "3.png  a.jpg  z.jpg\n"
     ]
    }
   ],
   "source": [
    "ls *.[jp][pn]g "
   ]
  },
  {
   "cell_type": "code",
   "execution_count": 66,
   "metadata": {},
   "outputs": [
    {
     "name": "stdout",
     "output_type": "stream",
     "text": [
      "total 132\n",
      "drwxr-xr-x 33 root                     root                     4096 Apr  2 17:12 .\n",
      "drwxr-xr-x 25 root                     root                     4096 Mar 17 15:25 ..\n",
      "drwxr-xr-x 12 azat                     azat                     4096 Mar 18 01:23 azat\n",
      "drwxr-x---  8 jupyter-admin            jupyter-admin            4096 Mar 21 17:42 jupyter-admin\n",
      "drwxr-x---  8 jupyter-aiana178         jupyter-aiana178         4096 Apr  2 18:02 jupyter-aiana178\n",
      "drwxr-x--- 10 jupyter-aigerimunisat    jupyter-aigerimunisat    4096 Apr  2 16:51 jupyter-aigerimunisat\n",
      "drwxr-x---  8 jupyter-aizadait         jupyter-aizadait         4096 Mar 28 01:17 jupyter-aizadait\n",
      "drwxr-x--- 10 jupyter-amayakof         jupyter-amayakof         4096 Mar 31 23:59 jupyter-amayakof\n",
      "drwxr-x---  7 jupyter-amirkhan         jupyter-amirkhan         4096 Mar 21 13:40 jupyter-amirkhan\n",
      "drwxr-x---  4 jupyter-arayka           jupyter-arayka           4096 Mar 18 17:22 jupyter-arayka\n",
      "drwxr-x---  8 jupyter-aruzhan149       jupyter-aruzhan149       4096 Mar 29 17:21 jupyter-aruzhan149\n",
      "drwxr-x---  7 jupyter-aselleon         jupyter-aselleon         4096 Mar 23 19:08 jupyter-aselleon\n",
      "drwxr-x--- 12 jupyter-azat             jupyter-azat             4096 Mar 23 22:20 jupyter-azat\n",
      "drwxr-x--- 11 jupyter-cubefiction      jupyter-cubefiction      4096 Apr  2 17:47 jupyter-cubefiction\n",
      "drwxr-x---  9 jupyter-danenok          jupyter-danenok          4096 Mar 28 14:09 jupyter-danenok\n",
      "drwxr-x---  7 jupyter-darganius        jupyter-darganius        4096 Mar 23 12:19 jupyter-darganius\n",
      "drwxr-x---  8 jupyter-ekdana           jupyter-ekdana           4096 Mar 28 12:22 jupyter-ekdana\n",
      "drwxr-x--- 10 jupyter-inkar601         jupyter-inkar601         4096 Mar 28 14:09 jupyter-inkar601\n",
      "drwxr-x--- 10 jupyter-kkenzh           jupyter-kkenzh           4096 Apr  2 18:02 jupyter-kkenzh\n",
      "drwxr-x---  7 jupyter-nazymungarova    jupyter-nazymungarova    4096 Mar 21 14:26 jupyter-nazymungarova\n",
      "drwxr-x---  7 jupyter-nuray.serkali    jupyter-nuray.serkali    4096 Mar 19 17:09 jupyter-nuray.serkali\n",
      "drwxr-x---  7 jupyter-nurike           jupyter-nurike           4096 Mar 24 04:56 jupyter-nurike\n",
      "drwxr-x---  8 jupyter-nurlaura         jupyter-nurlaura         4096 Mar 28 00:09 jupyter-nurlaura\n",
      "drwxr-x---  8 jupyter-nurlaura2        jupyter-nurlaura2        4096 Apr  2 01:29 jupyter-nurlaura2\n",
      "drwxr-x---  9 jupyter-official-nanakai jupyter-official-nanakai 4096 Apr  1 02:05 jupyter-official-nanakai\n",
      "drwxr-x---  8 jupyter-orissim          jupyter-orissim          4096 Apr  1 17:01 jupyter-orissim\n",
      "drwxr-x---  8 jupyter-tsagynysh        jupyter-tsagynysh        4096 Apr  1 17:39 jupyter-tsagynysh\n",
      "drwxr-x--- 15 jupyter-unisat           jupyter-unisat           4096 Apr  2 17:10 jupyter-unisat\n",
      "drwxr-x--- 10 jupyter-unisatkz         jupyter-unisatkz         4096 Apr  2 18:02 jupyter-unisatkz\n",
      "drwxr-x---  4 jupyter-yeldana          jupyter-yeldana          4096 Mar 23 16:17 jupyter-yeldana\n",
      "drwxr-x---  5 jupyter-zhandos          jupyter-zhandos          4096 Mar 23 12:19 jupyter-zhandos\n",
      "drwxr-x---  8 jupyter-zhanelbaltabay   jupyter-zhanelbaltabay   4096 Apr  2 14:23 jupyter-zhanelbaltabay\n",
      "drwxr-x---  9 jupyter-zhannaspace      jupyter-zhannaspace      4096 Apr  2 04:01 jupyter-zhannaspace\n"
     ]
    }
   ],
   "source": [
    "ls -al /home/"
   ]
  },
  {
   "cell_type": "code",
   "execution_count": 67,
   "metadata": {},
   "outputs": [
    {
     "name": "stdout",
     "output_type": "stream",
     "text": [
      "ls: cannot access '/home/*/unisat': No such file or directory\n"
     ]
    },
    {
     "ename": "",
     "evalue": "2",
     "output_type": "error",
     "traceback": []
    }
   ],
   "source": [
    "ls -al /home/*/unisat"
   ]
  },
  {
   "cell_type": "code",
   "execution_count": 68,
   "metadata": {},
   "outputs": [
    {
     "name": "stdout",
     "output_type": "stream",
     "text": [
      "ls: cannot open directory '/home/jupyter-admin': Permission denied\n",
      "ls: cannot open directory '/home/jupyter-aiana178': Permission denied\n",
      "ls: cannot open directory '/home/jupyter-aigerimunisat': Permission denied\n",
      "ls: cannot open directory '/home/jupyter-aizadait': Permission denied\n",
      "ls: cannot open directory '/home/jupyter-amayakof': Permission denied\n",
      "ls: cannot open directory '/home/jupyter-amirkhan': Permission denied\n",
      "ls: cannot open directory '/home/jupyter-arayka': Permission denied\n",
      "ls: cannot open directory '/home/jupyter-aruzhan149': Permission denied\n",
      "ls: cannot open directory '/home/jupyter-aselleon': Permission denied\n",
      "ls: cannot open directory '/home/jupyter-azat': Permission denied\n"
     ]
    },
    {
     "ename": "",
     "evalue": "2",
     "output_type": "error",
     "traceback": []
    }
   ],
   "source": [
    "ls /home/jupyter-a*"
   ]
  },
  {
   "cell_type": "code",
   "execution_count": 69,
   "metadata": {},
   "outputs": [
    {
     "name": "stdout",
     "output_type": "stream",
     "text": [
      "ls: cannot access '/home/jupyter-b*': No such file or directory\n"
     ]
    },
    {
     "ename": "",
     "evalue": "2",
     "output_type": "error",
     "traceback": []
    }
   ],
   "source": [
    "ls /home/jupyter-b*"
   ]
  },
  {
   "cell_type": "code",
   "execution_count": 70,
   "metadata": {},
   "outputs": [
    {
     "name": "stdout",
     "output_type": "stream",
     "text": [
      "ls: cannot open directory '/home/jupyter-zhandos': Permission denied\n",
      "ls: cannot open directory '/home/jupyter-zhanelbaltabay': Permission denied\n",
      "ls: cannot open directory '/home/jupyter-zhannaspace': Permission denied\n"
     ]
    },
    {
     "ename": "",
     "evalue": "2",
     "output_type": "error",
     "traceback": []
    }
   ],
   "source": [
    "ls /home/jupyter-z*"
   ]
  },
  {
   "cell_type": "code",
   "execution_count": 71,
   "metadata": {},
   "outputs": [
    {
     "name": "stdout",
     "output_type": "stream",
     "text": [
      "acpi                    inputrc                  protocols\n",
      "adduser.conf            iproute2                 python\n",
      "alternatives            iscsi                    python2.7\n",
      "apache2                 issue                    python3\n",
      "apm                     issue.net                python3.6\n",
      "apparmor                java-11-openjdk          python3.8\n",
      "apparmor.d              kernel                   rc0.d\n",
      "apport                  kernel-img.conf          rc1.d\n",
      "apt                     landscape                rc2.d\n",
      "at.deny                 ldap                     rc3.d\n",
      "bash.bashrc             ld.so.cache              rc4.d\n",
      "bash_completion         ld.so.conf               rc5.d\n",
      "bash_completion.d       ld.so.conf.d             rc6.d\n",
      "bindresvport.blacklist  legal                    rc.local\n",
      "binfmt.d                libaudit.conf            rcS.d\n",
      "byobu                   libnl-3                  resolv.conf\n",
      "ca-certificates         libpaper.d               rmt\n",
      "ca-certificates.conf    lighttpd                 rpc\n",
      "calendar                locale.alias             rsyslog.conf\n",
      "cloud                   locale.gen               rsyslog.d\n",
      "console-setup           localtime                screenrc\n",
      "cron.d                  logcheck                 securetty\n",
      "cron.daily              login.defs               security\n",
      "cron.hourly             logrotate.conf           selinux\n",
      "cron.monthly            logrotate.d              sensors3.conf\n",
      "crontab                 lsb-release              sensors.d\n",
      "cron.weekly             ltrace.conf              services\n",
      "cryptsetup-initramfs    lvm                      shadow\n",
      "crypttab                machine-id               shadow-\n",
      "dbus-1                  magic                    shells\n",
      "debconf.conf            magic.mime               skel\n",
      "debian_version          mailcap                  sos.conf\n",
      "default                 mailcap.order            ssh\n",
      "deluser.conf            manpath.config           ssl\n",
      "depmod.d                mdadm                    subgid\n",
      "dhcp                    mime.types               subgid-\n",
      "dnsmasq.d               mke2fs.conf              subuid\n",
      "dnsmasq.d-available     modprobe.d               subuid-\n",
      "dpkg                    modules                  sudoers\n",
      "environment             modules-load.d           sudoers.d\n",
      "ethertypes              mtab                     supervisord.conf\n",
      "fonts                   mysql                    sysctl.conf\n",
      "fstab                   nanorc                   sysctl.d\n",
      "fuse.conf               netplan                  systemd\n",
      "gai.conf                network                  terminfo\n",
      "ghostscript             networkd-dispatcher      texmf\n",
      "glvnd                   NetworkManager           thermald\n",
      "groff                   networks                 timezone\n",
      "group                   newt                     tmpfiles.d\n",
      "group-                  nsswitch.conf            ucf.conf\n",
      "grub.d                  octave.conf              udev\n",
      "gshadow                 opt                      ufw\n",
      "gshadow-                os-release               updatedb.conf\n",
      "gss                     overlayroot.conf         update-manager\n",
      "gtk-2.0                 pam.conf                 update-motd.d\n",
      "gtk-3.0                 pam.d                    update-notifier\n",
      "hdparm.conf             papersize                vim\n",
      "host.conf               passwd                   vmware-tools\n",
      "hostname                passwd-                  vtrgb\n",
      "hosts                   perl                     wgetrc\n",
      "hosts.allow             pm                       X11\n",
      "hosts.deny              polkit-1                 xdg\n",
      "ImageMagick-6           pollinate                zsh\n",
      "init                    popularity-contest.conf  zsh_command_not_found\n",
      "init.d                  profile\n",
      "initramfs-tools         profile.d\n"
     ]
    }
   ],
   "source": [
    "ls /etc"
   ]
  },
  {
   "cell_type": "code",
   "execution_count": 72,
   "metadata": {},
   "outputs": [
    {
     "name": "stdout",
     "output_type": "stream",
     "text": [
      "/etc/apparmor.d:\n",
      "abstractions    lxc                usr.bin.man\n",
      "cache           lxc-containers     usr.lib.snapd.snap-confine.real\n",
      "disable         sbin.dhclient      usr.sbin.mysqld\n",
      "force-complain  tunables           usr.sbin.rsyslogd\n",
      "local           usr.bin.lxc-start  usr.sbin.tcpdump\n",
      "\n",
      "/etc/bash_completion.d:\n",
      "apport_completion  git-prompt  grub\n",
      "\n",
      "/etc/binfmt.d:\n",
      "\n",
      "/etc/cron.d:\n",
      "mdadm  popularity-contest\n",
      "\n",
      "/etc/depmod.d:\n",
      "ubuntu.conf\n",
      "\n",
      "/etc/dnsmasq.d:\n",
      "lxd\n",
      "\n",
      "/etc/grub.d:\n",
      "00_header        10_linux      30_os-prober      40_custom  README\n",
      "05_debian_theme  20_linux_xen  30_uefi-firmware  41_custom\n",
      "\n",
      "/etc/init.d:\n",
      "acpid             grub-common        lxd             rsync\n",
      "apparmor          hwclock.sh         mdadm           rsyslog\n",
      "apport            irqbalance         mdadm-waitidle  screen-cleanup\n",
      "atd               iscsid             mysql           ssh\n",
      "console-setup.sh  keyboard-setup.sh  nginx           udev\n",
      "cron              kmod               open-iscsi      ufw\n",
      "cryptdisks        lvm2               open-vm-tools   unattended-upgrades\n",
      "cryptdisks-early  lvm2-lvmetad       plymouth        uuidd\n",
      "dbus              lvm2-lvmpolld      plymouth-log    x11-common\n",
      "ebtables          lxcfs              procps\n",
      "\n",
      "/etc/ld.so.conf.d:\n",
      "fakeroot-x86_64-linux-gnu.conf  libc.conf  x86_64-linux-gnu.conf\n",
      "\n",
      "/etc/libpaper.d:\n",
      "texlive-base\n",
      "\n",
      "/etc/logrotate.d:\n",
      "alternatives  apt   lxd           nginx    ufw\n",
      "apport        dpkg  mysql-server  rsyslog  unattended-upgrades\n",
      "\n",
      "/etc/modprobe.d:\n",
      "amd64-microcode-blacklist.conf  blacklist-rare-network.conf\n",
      "blacklist-ath_pci.conf          intel-microcode-blacklist.conf\n",
      "blacklist.conf                  iwlwifi.conf\n",
      "blacklist-firewire.conf         mdadm.conf\n",
      "blacklist-framebuffer.conf\n",
      "\n",
      "/etc/modules-load.d:\n",
      "modules.conf\n",
      "\n",
      "/etc/pam.d:\n",
      "atd             common-password                other      su\n",
      "chfn            common-session                 passwd     sudo\n",
      "chpasswd        common-session-noninteractive  polkit-1   systemd-user\n",
      "chsh            cron                           runuser    vmtoolsd\n",
      "common-account  login                          runuser-l\n",
      "common-auth     newusers                       sshd\n",
      "\n",
      "/etc/profile.d:\n",
      "01-locale-fix.sh    cedilla-portuguese.sh      Z99-cloud-locale-test.sh\n",
      "apps-bin-path.sh    Z97-byobu.sh\n",
      "bash_completion.sh  Z99-cloudinit-warnings.sh\n",
      "\n",
      "/etc/rc0.d:\n",
      "K01atd               K01lvm2-lvmpolld   K01open-iscsi\n",
      "K01cryptdisks        K01lxcfs           K01open-vm-tools\n",
      "K01cryptdisks-early  K01lxd             K01plymouth\n",
      "K01ebtables          K01mdadm           K01rsyslog\n",
      "K01irqbalance        K01mdadm-waitidle  K01unattended-upgrades\n",
      "K01iscsid            K01mysql           K01uuidd\n",
      "K01lvm2-lvmetad      K01nginx\n",
      "\n",
      "/etc/rc1.d:\n",
      "K01atd         K01lvm2-lvmetad   K01mdadm       K01open-vm-tools\n",
      "K01ebtables    K01lvm2-lvmpolld  K01mysql       K01rsyslog\n",
      "K01irqbalance  K01lxcfs          K01nginx       K01ufw\n",
      "K01iscsid      K01lxd            K01open-iscsi  K01uuidd\n",
      "\n",
      "/etc/rc2.d:\n",
      "S01acpid             S01grub-common    S01mdadm          S01rsyslog\n",
      "S01apport            S01irqbalance     S01mysql          S01ssh\n",
      "S01atd               S01lvm2-lvmetad   S01nginx          S01unattended-upgrades\n",
      "S01console-setup.sh  S01lvm2-lvmpolld  S01open-vm-tools  S01uuidd\n",
      "S01cron              S01lxcfs          S01plymouth\n",
      "S01dbus              S01lxd            S01rsync\n",
      "\n",
      "/etc/rc3.d:\n",
      "S01acpid             S01grub-common    S01mdadm          S01rsyslog\n",
      "S01apport            S01irqbalance     S01mysql          S01ssh\n",
      "S01atd               S01lvm2-lvmetad   S01nginx          S01unattended-upgrades\n",
      "S01console-setup.sh  S01lvm2-lvmpolld  S01open-vm-tools  S01uuidd\n",
      "S01cron              S01lxcfs          S01plymouth\n",
      "S01dbus              S01lxd            S01rsync\n",
      "\n",
      "/etc/rc4.d:\n",
      "S01acpid             S01grub-common    S01mdadm          S01rsyslog\n",
      "S01apport            S01irqbalance     S01mysql          S01ssh\n",
      "S01atd               S01lvm2-lvmetad   S01nginx          S01unattended-upgrades\n",
      "S01console-setup.sh  S01lvm2-lvmpolld  S01open-vm-tools  S01uuidd\n",
      "S01cron              S01lxcfs          S01plymouth\n",
      "S01dbus              S01lxd            S01rsync\n",
      "\n",
      "/etc/rc5.d:\n",
      "S01acpid             S01grub-common    S01mdadm          S01rsyslog\n",
      "S01apport            S01irqbalance     S01mysql          S01ssh\n",
      "S01atd               S01lvm2-lvmetad   S01nginx          S01unattended-upgrades\n",
      "S01console-setup.sh  S01lvm2-lvmpolld  S01open-vm-tools  S01uuidd\n",
      "S01cron              S01lxcfs          S01plymouth\n",
      "S01dbus              S01lxd            S01rsync\n",
      "\n",
      "/etc/rc6.d:\n",
      "K01atd               K01lvm2-lvmpolld   K01open-iscsi\n",
      "K01cryptdisks        K01lxcfs           K01open-vm-tools\n",
      "K01cryptdisks-early  K01lxd             K01plymouth\n",
      "K01ebtables          K01mdadm           K01rsyslog\n",
      "K01irqbalance        K01mdadm-waitidle  K01unattended-upgrades\n",
      "K01iscsid            K01mysql           K01uuidd\n",
      "K01lvm2-lvmetad      K01nginx\n",
      "\n",
      "/etc/rcS.d:\n",
      "S01apparmor          S01iscsid             S01open-iscsi      S01udev\n",
      "S01cryptdisks        S01keyboard-setup.sh  S01plymouth-log    S01ufw\n",
      "S01cryptdisks-early  S01kmod               S01procps          S01x11-common\n",
      "S01ebtables          S01lvm2               S01screen-cleanup\n",
      "\n",
      "/etc/rsyslog.d:\n",
      "20-ufw.conf  21-cloudinit.conf  50-default.conf\n",
      "\n",
      "/etc/sensors.d:\n",
      "\n",
      "/etc/sudoers.d:\n",
      "jupyterhub-admins  README\n",
      "\n",
      "/etc/sysctl.d:\n",
      "10-console-messages.conf   10-lxd-inotify.conf       10-zeropage.conf\n",
      "10-ipv6-privacy.conf       10-magic-sysrq.conf       99-sysctl.conf\n",
      "10-kernel-hardening.conf   10-network-security.conf  README\n",
      "10-link-restrictions.conf  10-ptrace.conf\n",
      "\n",
      "/etc/tmpfiles.d:\n",
      "screen-cleanup.conf\n",
      "\n",
      "/etc/update-motd.d:\n",
      "00-header             80-livepatch            97-overlayroot\n",
      "10-help-text          90-updates-available    98-fsck-at-reboot\n",
      "50-landscape-sysinfo  91-release-upgrade      98-reboot-required\n",
      "50-motd-news          92-unattended-upgrades\n",
      "80-esm                95-hwe-eol\n"
     ]
    }
   ],
   "source": [
    "ls /etc/*.d"
   ]
  },
  {
   "cell_type": "code",
   "execution_count": 74,
   "metadata": {},
   "outputs": [],
   "source": [
    "ls /home/*unisatkz/Cola"
   ]
  },
  {
   "cell_type": "code",
   "execution_count": 75,
   "metadata": {},
   "outputs": [
    {
     "name": "stdout",
     "output_type": "stream",
     "text": [
      "/home/jupyter-unisatkz\n"
     ]
    }
   ],
   "source": [
    "pwd"
   ]
  },
  {
   "cell_type": "code",
   "execution_count": 76,
   "metadata": {},
   "outputs": [
    {
     "name": "stdout",
     "output_type": "stream",
     "text": [
      "10     34.azg  abcd   a.txt  Mola    shared           Untitled.ipynb\n",
      "1.txt  3.png   a.jpg  Cola   right   Tola             z.jpg\n",
      "2.txt  abc     a.mp3  c.txt  riight  Untitled1.ipynb\n"
     ]
    }
   ],
   "source": [
    "ls"
   ]
  },
  {
   "cell_type": "code",
   "execution_count": 77,
   "metadata": {},
   "outputs": [],
   "source": [
    "cd /home/*unisatkz/Cola"
   ]
  },
  {
   "cell_type": "code",
   "execution_count": 78,
   "metadata": {},
   "outputs": [
    {
     "name": "stdout",
     "output_type": "stream",
     "text": [
      "/home/jupyter-unisatkz/Cola\n"
     ]
    }
   ],
   "source": [
    "pwd"
   ]
  },
  {
   "cell_type": "code",
   "execution_count": 79,
   "metadata": {},
   "outputs": [],
   "source": [
    "# permisson "
   ]
  },
  {
   "cell_type": "code",
   "execution_count": 81,
   "metadata": {},
   "outputs": [
    {
     "name": "stdout",
     "output_type": "stream",
     "text": [
      "bash: cd: /home/*azat: No such file or directory\n"
     ]
    },
    {
     "ename": "",
     "evalue": "1",
     "output_type": "error",
     "traceback": []
    }
   ],
   "source": [
    "cd '/home/*azat'"
   ]
  },
  {
   "cell_type": "code",
   "execution_count": 82,
   "metadata": {},
   "outputs": [
    {
     "name": "stdout",
     "output_type": "stream",
     "text": [
      "azat                   jupyter-cubefiction    jupyter-official-nanakai\n",
      "jupyter-admin          jupyter-danenok        jupyter-orissim\n",
      "jupyter-aiana178       jupyter-darganius      jupyter-tsagynysh\n",
      "jupyter-aigerimunisat  jupyter-ekdana         jupyter-unisat\n",
      "jupyter-aizadait       jupyter-inkar601       jupyter-unisatkz\n",
      "jupyter-amayakof       jupyter-kkenzh         jupyter-yeldana\n",
      "jupyter-amirkhan       jupyter-nazymungarova  jupyter-zhandos\n",
      "jupyter-arayka         jupyter-nuray.serkali  jupyter-zhanelbaltabay\n",
      "jupyter-aruzhan149     jupyter-nurike         jupyter-zhannaspace\n",
      "jupyter-aselleon       jupyter-nurlaura\n",
      "jupyter-azat           jupyter-nurlaura2\n"
     ]
    }
   ],
   "source": [
    "ls /home"
   ]
  },
  {
   "cell_type": "code",
   "execution_count": 83,
   "metadata": {},
   "outputs": [],
   "source": [
    "cd /home/azat"
   ]
  },
  {
   "cell_type": "code",
   "execution_count": 84,
   "metadata": {},
   "outputs": [
    {
     "name": "stdout",
     "output_type": "stream",
     "text": [
      "/home/azat\n"
     ]
    }
   ],
   "source": [
    "pwd"
   ]
  },
  {
   "cell_type": "code",
   "execution_count": 85,
   "metadata": {},
   "outputs": [
    {
     "name": "stdout",
     "output_type": "stream",
     "text": [
      "bash: cd: /home/jupyter-azat/: Permission denied\n"
     ]
    },
    {
     "ename": "",
     "evalue": "1",
     "output_type": "error",
     "traceback": []
    }
   ],
   "source": [
    "cd /home/jupyter-azat/"
   ]
  },
  {
   "cell_type": "code",
   "execution_count": 86,
   "metadata": {},
   "outputs": [],
   "source": [
    "cd /home"
   ]
  },
  {
   "cell_type": "code",
   "execution_count": 87,
   "metadata": {},
   "outputs": [
    {
     "name": "stdout",
     "output_type": "stream",
     "text": [
      "total 124\n",
      "drwxr-xr-x 12 azat                     azat                     4096 Mar 18 01:23 azat\n",
      "drwxr-x---  8 jupyter-admin            jupyter-admin            4096 Mar 21 17:42 jupyter-admin\n",
      "drwxr-x---  8 jupyter-aiana178         jupyter-aiana178         4096 Apr  2 18:08 jupyter-aiana178\n",
      "drwxr-x--- 10 jupyter-aigerimunisat    jupyter-aigerimunisat    4096 Apr  2 16:51 jupyter-aigerimunisat\n",
      "drwxr-x---  8 jupyter-aizadait         jupyter-aizadait         4096 Mar 28 01:17 jupyter-aizadait\n",
      "drwxr-x--- 10 jupyter-amayakof         jupyter-amayakof         4096 Mar 31 23:59 jupyter-amayakof\n",
      "drwxr-x---  7 jupyter-amirkhan         jupyter-amirkhan         4096 Mar 21 13:40 jupyter-amirkhan\n",
      "drwxr-x---  4 jupyter-arayka           jupyter-arayka           4096 Mar 18 17:22 jupyter-arayka\n",
      "drwxr-x---  8 jupyter-aruzhan149       jupyter-aruzhan149       4096 Mar 29 17:21 jupyter-aruzhan149\n",
      "drwxr-x---  7 jupyter-aselleon         jupyter-aselleon         4096 Mar 23 19:08 jupyter-aselleon\n",
      "drwxr-x--- 12 jupyter-azat             jupyter-azat             4096 Mar 23 22:20 jupyter-azat\n",
      "drwxr-x--- 11 jupyter-cubefiction      jupyter-cubefiction      4096 Apr  2 17:47 jupyter-cubefiction\n",
      "drwxr-x---  9 jupyter-danenok          jupyter-danenok          4096 Mar 28 14:09 jupyter-danenok\n",
      "drwxr-x---  7 jupyter-darganius        jupyter-darganius        4096 Mar 23 12:19 jupyter-darganius\n",
      "drwxr-x---  8 jupyter-ekdana           jupyter-ekdana           4096 Mar 28 12:22 jupyter-ekdana\n",
      "drwxr-x--- 10 jupyter-inkar601         jupyter-inkar601         4096 Mar 28 14:09 jupyter-inkar601\n",
      "drwxr-x--- 10 jupyter-kkenzh           jupyter-kkenzh           4096 Apr  2 18:12 jupyter-kkenzh\n",
      "drwxr-x---  7 jupyter-nazymungarova    jupyter-nazymungarova    4096 Mar 21 14:26 jupyter-nazymungarova\n",
      "drwxr-x---  7 jupyter-nuray.serkali    jupyter-nuray.serkali    4096 Mar 19 17:09 jupyter-nuray.serkali\n",
      "drwxr-x---  7 jupyter-nurike           jupyter-nurike           4096 Mar 24 04:56 jupyter-nurike\n",
      "drwxr-x---  8 jupyter-nurlaura         jupyter-nurlaura         4096 Mar 28 00:09 jupyter-nurlaura\n",
      "drwxr-x---  8 jupyter-nurlaura2        jupyter-nurlaura2        4096 Apr  2 01:29 jupyter-nurlaura2\n",
      "drwxr-x---  9 jupyter-official-nanakai jupyter-official-nanakai 4096 Apr  1 02:05 jupyter-official-nanakai\n",
      "drwxr-x---  8 jupyter-orissim          jupyter-orissim          4096 Apr  1 17:01 jupyter-orissim\n",
      "drwxr-x---  8 jupyter-tsagynysh        jupyter-tsagynysh        4096 Apr  1 17:39 jupyter-tsagynysh\n",
      "drwxr-x--- 15 jupyter-unisat           jupyter-unisat           4096 Apr  2 17:10 jupyter-unisat\n",
      "drwxr-x--- 10 jupyter-unisatkz         jupyter-unisatkz         4096 Apr  2 18:12 jupyter-unisatkz\n",
      "drwxr-x---  4 jupyter-yeldana          jupyter-yeldana          4096 Mar 23 16:17 jupyter-yeldana\n",
      "drwxr-x---  5 jupyter-zhandos          jupyter-zhandos          4096 Mar 23 12:19 jupyter-zhandos\n",
      "drwxr-x---  8 jupyter-zhanelbaltabay   jupyter-zhanelbaltabay   4096 Apr  2 14:23 jupyter-zhanelbaltabay\n",
      "drwxr-x---  9 jupyter-zhannaspace      jupyter-zhannaspace      4096 Apr  2 04:01 jupyter-zhannaspace\n"
     ]
    }
   ],
   "source": [
    "ls -l "
   ]
  },
  {
   "cell_type": "code",
   "execution_count": 88,
   "metadata": {},
   "outputs": [],
   "source": [
    "# drwxr-xr-x 12 azat \n",
    "# drwxr-x--- 12 jupyter-azat "
   ]
  },
  {
   "cell_type": "code",
   "execution_count": 89,
   "metadata": {},
   "outputs": [
    {
     "name": "stdout",
     "output_type": "stream",
     "text": [
      "/home\n"
     ]
    }
   ],
   "source": [
    "pwd"
   ]
  },
  {
   "cell_type": "code",
   "execution_count": 90,
   "metadata": {},
   "outputs": [],
   "source": [
    "cd "
   ]
  },
  {
   "cell_type": "code",
   "execution_count": 91,
   "metadata": {},
   "outputs": [
    {
     "name": "stdout",
     "output_type": "stream",
     "text": [
      "/home/jupyter-unisatkz\n"
     ]
    }
   ],
   "source": [
    "pwd"
   ]
  },
  {
   "cell_type": "code",
   "execution_count": 92,
   "metadata": {},
   "outputs": [],
   "source": [
    "touch testfile"
   ]
  },
  {
   "cell_type": "code",
   "execution_count": 93,
   "metadata": {},
   "outputs": [
    {
     "name": "stdout",
     "output_type": "stream",
     "text": [
      "-rw-r--r-- 1 jupyter-unisatkz jupyter-unisatkz 0 Apr  2 18:18 testfile\n"
     ]
    }
   ],
   "source": [
    "ls -l testfile"
   ]
  },
  {
   "cell_type": "code",
   "execution_count": 94,
   "metadata": {},
   "outputs": [],
   "source": [
    "# rw- owner cxan read write"
   ]
  },
  {
   "cell_type": "code",
   "execution_count": 96,
   "metadata": {},
   "outputs": [],
   "source": [
    "# r-- group can read only"
   ]
  },
  {
   "cell_type": "code",
   "execution_count": 97,
   "metadata": {},
   "outputs": [],
   "source": [
    "# r-- other users can read only too"
   ]
  },
  {
   "cell_type": "code",
   "execution_count": 98,
   "metadata": {},
   "outputs": [],
   "source": [
    "touch ok"
   ]
  },
  {
   "cell_type": "code",
   "execution_count": 99,
   "metadata": {},
   "outputs": [
    {
     "name": "stdout",
     "output_type": "stream",
     "text": [
      "-rw-r--r-- 1 jupyter-unisatkz jupyter-unisatkz 0 Apr  2 18:22 ok\n"
     ]
    }
   ],
   "source": [
    "ls -l ok"
   ]
  },
  {
   "cell_type": "code",
   "execution_count": 100,
   "metadata": {},
   "outputs": [],
   "source": [
    "# change permission"
   ]
  },
  {
   "cell_type": "code",
   "execution_count": 101,
   "metadata": {},
   "outputs": [],
   "source": [
    "# chmod [permission] path"
   ]
  },
  {
   "cell_type": "code",
   "execution_count": 103,
   "metadata": {},
   "outputs": [
    {
     "name": "stdout",
     "output_type": "stream",
     "text": [
      "-rw-r--r-- 1 jupyter-unisatkz jupyter-unisatkz 0 Apr  2 18:18 testfile\n"
     ]
    }
   ],
   "source": [
    "ls -l testfile"
   ]
  },
  {
   "cell_type": "code",
   "execution_count": 104,
   "metadata": {},
   "outputs": [],
   "source": [
    "chmod u+w testfile"
   ]
  },
  {
   "cell_type": "code",
   "execution_count": 105,
   "metadata": {},
   "outputs": [
    {
     "name": "stdout",
     "output_type": "stream",
     "text": [
      "-rw-r--r-- 1 jupyter-unisatkz jupyter-unisatkz 0 Apr  2 18:18 testfile\n"
     ]
    }
   ],
   "source": [
    "ls -l testfile"
   ]
  },
  {
   "cell_type": "code",
   "execution_count": 106,
   "metadata": {},
   "outputs": [],
   "source": [
    "chmod u-w testfile"
   ]
  },
  {
   "cell_type": "code",
   "execution_count": 107,
   "metadata": {},
   "outputs": [
    {
     "name": "stdout",
     "output_type": "stream",
     "text": [
      "-r--r--r-- 1 jupyter-unisatkz jupyter-unisatkz 0 Apr  2 18:18 testfile\n"
     ]
    }
   ],
   "source": [
    "ls -l testfile"
   ]
  },
  {
   "cell_type": "code",
   "execution_count": 108,
   "metadata": {},
   "outputs": [],
   "source": [
    "chmod u+w testfile"
   ]
  },
  {
   "cell_type": "code",
   "execution_count": 110,
   "metadata": {},
   "outputs": [
    {
     "name": "stdout",
     "output_type": "stream",
     "text": [
      "-rw-r--r-- 1 jupyter-unisatkz jupyter-unisatkz 0 Apr  2 18:18 testfile\n"
     ]
    }
   ],
   "source": [
    "ls -l testfile"
   ]
  },
  {
   "cell_type": "code",
   "execution_count": 111,
   "metadata": {},
   "outputs": [],
   "source": [
    "chmod g-r testfile"
   ]
  },
  {
   "cell_type": "code",
   "execution_count": 113,
   "metadata": {},
   "outputs": [
    {
     "name": "stdout",
     "output_type": "stream",
     "text": [
      "-rw----r-- 1 jupyter-unisatkz jupyter-unisatkz 0 Apr  2 18:18 testfile\n"
     ]
    }
   ],
   "source": [
    "ls -l testfile"
   ]
  },
  {
   "cell_type": "code",
   "execution_count": 114,
   "metadata": {},
   "outputs": [],
   "source": [
    "chmod g+w testfile"
   ]
  },
  {
   "cell_type": "code",
   "execution_count": 115,
   "metadata": {},
   "outputs": [
    {
     "name": "stdout",
     "output_type": "stream",
     "text": [
      "-rw--w-r-- 1 jupyter-unisatkz jupyter-unisatkz 0 Apr  2 18:18 testfile\n"
     ]
    }
   ],
   "source": [
    "ls -l testfile"
   ]
  },
  {
   "cell_type": "code",
   "execution_count": 116,
   "metadata": {},
   "outputs": [],
   "source": [
    "chmod o+w testfile"
   ]
  },
  {
   "cell_type": "code",
   "execution_count": 117,
   "metadata": {},
   "outputs": [
    {
     "name": "stdout",
     "output_type": "stream",
     "text": [
      "-rw--w-rw- 1 jupyter-unisatkz jupyter-unisatkz 0 Apr  2 18:18 testfile\n"
     ]
    }
   ],
   "source": [
    "ls -l testfile"
   ]
  },
  {
   "cell_type": "code",
   "execution_count": 118,
   "metadata": {},
   "outputs": [],
   "source": [
    "chmod o-r testfile"
   ]
  },
  {
   "cell_type": "code",
   "execution_count": 119,
   "metadata": {},
   "outputs": [
    {
     "name": "stdout",
     "output_type": "stream",
     "text": [
      "-rw--w--w- 1 jupyter-unisatkz jupyter-unisatkz 0 Apr  2 18:18 testfile\n"
     ]
    }
   ],
   "source": [
    "ls -l testfile"
   ]
  },
  {
   "cell_type": "code",
   "execution_count": 120,
   "metadata": {},
   "outputs": [],
   "source": [
    "chmod u+wr testfile"
   ]
  },
  {
   "cell_type": "code",
   "execution_count": 121,
   "metadata": {},
   "outputs": [
    {
     "name": "stdout",
     "output_type": "stream",
     "text": [
      "-rw--w--w- 1 jupyter-unisatkz jupyter-unisatkz 0 Apr  2 18:18 testfile\n"
     ]
    }
   ],
   "source": [
    "ls -l testfile"
   ]
  },
  {
   "cell_type": "code",
   "execution_count": 122,
   "metadata": {},
   "outputs": [],
   "source": [
    "chmod u+wrx testfile"
   ]
  },
  {
   "cell_type": "code",
   "execution_count": 124,
   "metadata": {},
   "outputs": [
    {
     "name": "stdout",
     "output_type": "stream",
     "text": [
      "-rwx-w--w- 1 jupyter-unisatkz jupyter-unisatkz 0 Apr  2 18:18 testfile\n"
     ]
    }
   ],
   "source": [
    "ls -l testfile"
   ]
  },
  {
   "cell_type": "code",
   "execution_count": 125,
   "metadata": {},
   "outputs": [
    {
     "name": "stdout",
     "output_type": "stream",
     "text": [
      "chmod: cannot access 'g+wr': No such file or directory\n",
      "chmod: cannot access 'o+wr': No such file or directory\n"
     ]
    },
    {
     "ename": "",
     "evalue": "1",
     "output_type": "error",
     "traceback": []
    }
   ],
   "source": [
    "chmod u+wr g+wr o+wr testfile"
   ]
  },
  {
   "cell_type": "code",
   "execution_count": 126,
   "metadata": {},
   "outputs": [],
   "source": [
    "# NUMBERS "
   ]
  },
  {
   "cell_type": "code",
   "execution_count": 127,
   "metadata": {},
   "outputs": [],
   "source": [
    "# chmod +o"
   ]
  },
  {
   "cell_type": "code",
   "execution_count": 128,
   "metadata": {},
   "outputs": [
    {
     "name": "stdout",
     "output_type": "stream",
     "text": [
      "right            testfile            abcd          abc     Cola\n",
      ".profile         .ipynb_checkpoints  a.txt         riight  c.txt\n",
      "Untitled2.ipynb  z.jpg               ..            .       a.mp3\n",
      "shared           Untitled1.ipynb     34.azg        Tola    10\n",
      ".ipython         Mola                .bash_logout  1.txt   Untitled.ipynb\n",
      "a.jpg            .jupyter            ok            2.txt\n",
      ".local           .bashrc             3.png         .cache\n"
     ]
    }
   ],
   "source": [
    "ls -f "
   ]
  },
  {
   "cell_type": "code",
   "execution_count": 129,
   "metadata": {},
   "outputs": [
    {
     "name": "stdout",
     "output_type": "stream",
     "text": [
      "10     34.azg  abcd   a.txt  Mola/  riight     Tola/            Untitled.ipynb\n",
      "1.txt  3.png   a.jpg  Cola/  ok     shared@    Untitled1.ipynb  z.jpg\n",
      "2.txt  abc     a.mp3  c.txt  right  testfile*  Untitled2.ipynb\n"
     ]
    }
   ],
   "source": [
    "ls -F "
   ]
  },
  {
   "cell_type": "code",
   "execution_count": 131,
   "metadata": {},
   "outputs": [],
   "source": [
    "# reverse recursive"
   ]
  },
  {
   "cell_type": "code",
   "execution_count": 132,
   "metadata": {},
   "outputs": [
    {
     "name": "stdout",
     "output_type": "stream",
     "text": [
      "Cloning into 'cs_books'...\n",
      "remote: Enumerating objects: 4, done.        \n",
      "remote: Counting objects: 100% (4/4), done.        \n",
      "remote: Compressing objects: 100% (4/4), done.        \n",
      "remote: Total 294 (delta 0), reused 1 (delta 0), pack-reused 290        \n",
      "Receiving objects: 100% (294/294), 667.60 MiB | 5.88 MiB/s, done.\n",
      "Resolving deltas: 100% (132/132), done.\n",
      "Checking out files: 100% (80/80), done.\n"
     ]
    }
   ],
   "source": [
    "git clone https://github.com/AzatAI/cs_books.git"
   ]
  },
  {
   "cell_type": "code",
   "execution_count": null,
   "metadata": {},
   "outputs": [],
   "source": []
  }
 ],
 "metadata": {
  "kernelspec": {
   "display_name": "Bash",
   "language": "bash",
   "name": "bash"
  },
  "language_info": {
   "codemirror_mode": "shell",
   "file_extension": ".sh",
   "mimetype": "text/x-sh",
   "name": "bash"
  }
 },
 "nbformat": 4,
 "nbformat_minor": 4
}
