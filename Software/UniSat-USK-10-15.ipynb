{
 "cells": [
  {
   "cell_type": "code",
   "execution_count": 1,
   "metadata": {},
   "outputs": [
    {
     "name": "stdout",
     "output_type": "stream",
     "text": [
      "/home/jupyter-unisatkz\n"
     ]
    }
   ],
   "source": [
    "pwd"
   ]
  },
  {
   "cell_type": "code",
   "execution_count": 2,
   "metadata": {},
   "outputs": [
    {
     "name": "stdout",
     "output_type": "stream",
     "text": [
      "total 88\n",
      "-rw-r--r-- 1 jupyter-unisatkz jupyter-unisatkz     0 Apr  2 17:51 10\n",
      "-rw-r--r-- 1 jupyter-unisatkz jupyter-unisatkz     0 Apr  2 17:48 1.txt\n",
      "-rw-r--r-- 1 jupyter-unisatkz jupyter-unisatkz     0 Apr  2 17:48 2.txt\n",
      "-rw-r--r-- 1 jupyter-unisatkz jupyter-unisatkz     0 Apr  2 18:01 34.azg\n",
      "-rw-r--r-- 1 jupyter-unisatkz jupyter-unisatkz     0 Apr  2 17:56 3.png\n",
      "-rw-r--r-- 1 jupyter-unisatkz jupyter-unisatkz     0 Apr  2 17:52 abc\n",
      "-rw-r--r-- 1 jupyter-unisatkz jupyter-unisatkz     0 Apr  2 17:52 abcd\n",
      "-rw-r--r-- 1 jupyter-unisatkz jupyter-unisatkz     0 Apr  2 17:56 a.jpg\n",
      "-rw-r--r-- 1 jupyter-unisatkz jupyter-unisatkz     0 Apr  2 17:56 a.mp3\n",
      "-rw-r--r-- 1 jupyter-unisatkz jupyter-unisatkz     0 Apr  2 17:53 a.txt\n",
      "drwxr-xr-x 2 jupyter-unisatkz jupyter-unisatkz  4096 Apr  2 17:45 Cola\n",
      "drwxr-xr-x 5 jupyter-unisatkz jupyter-unisatkz  4096 Apr  2 18:54 cs_books\n",
      "-rw-r--r-- 1 jupyter-unisatkz jupyter-unisatkz     0 Apr  2 17:53 c.txt\n",
      "drwxr-xr-x 2 jupyter-unisatkz jupyter-unisatkz  4096 Apr  2 17:45 Mola\n",
      "-rw-r--r-- 1 jupyter-unisatkz jupyter-unisatkz     0 Apr  2 18:22 ok\n",
      "-rw-r--r-- 1 jupyter-unisatkz jupyter-unisatkz     0 Apr  2 17:49 right\n",
      "-rw-r--r-- 1 jupyter-unisatkz jupyter-unisatkz     0 Apr  2 17:50 riight\n",
      "lrwxrwxrwx 1 jupyter-unisatkz jupyter-unisatkz    16 Mar 10 11:57 shared -> /srv/data/shared\n",
      "-rwx-w--w- 1 jupyter-unisatkz jupyter-unisatkz     0 Apr  2 18:18 testfile\n",
      "drwxr-xr-x 2 jupyter-unisatkz jupyter-unisatkz  4096 Apr  2 17:45 Tola\n",
      "-rw-r--r-- 1 jupyter-unisatkz jupyter-unisatkz 50902 Apr  2 18:50 Untitled1.ipynb\n",
      "-rw-r--r-- 1 jupyter-unisatkz jupyter-unisatkz 11198 Apr  2 18:36 Untitled2.ipynb\n",
      "-rw-r--r-- 1 jupyter-unisatkz jupyter-unisatkz   410 Apr  4 12:06 Untitled3.ipynb\n",
      "-rw-r--r-- 1 jupyter-unisatkz jupyter-unisatkz    72 Apr  2 17:12 Untitled.ipynb\n",
      "-rw-r--r-- 1 jupyter-unisatkz jupyter-unisatkz     0 Apr  2 17:56 z.jpg\n"
     ]
    }
   ],
   "source": [
    "ls -l"
   ]
  },
  {
   "cell_type": "code",
   "execution_count": 3,
   "metadata": {},
   "outputs": [],
   "source": [
    "touch cafe"
   ]
  },
  {
   "cell_type": "code",
   "execution_count": 4,
   "metadata": {},
   "outputs": [
    {
     "name": "stdout",
     "output_type": "stream",
     "text": [
      "-rw-r--r-- 1 jupyter-unisatkz jupyter-unisatkz 0 Apr  4 12:07 cafe\n"
     ]
    }
   ],
   "source": [
    "ls -l cafe"
   ]
  },
  {
   "cell_type": "code",
   "execution_count": 5,
   "metadata": {},
   "outputs": [],
   "source": [
    "chmod o-r cafe"
   ]
  },
  {
   "cell_type": "code",
   "execution_count": 6,
   "metadata": {},
   "outputs": [
    {
     "name": "stdout",
     "output_type": "stream",
     "text": [
      "-rw-r----- 1 jupyter-unisatkz jupyter-unisatkz 0 Apr  4 12:07 cafe\n"
     ]
    }
   ],
   "source": [
    "ls -l cafe"
   ]
  },
  {
   "cell_type": "code",
   "execution_count": 7,
   "metadata": {},
   "outputs": [],
   "source": [
    "chmod o+rw cafe"
   ]
  },
  {
   "cell_type": "code",
   "execution_count": 8,
   "metadata": {},
   "outputs": [
    {
     "name": "stdout",
     "output_type": "stream",
     "text": [
      "-rw-r--rw- 1 jupyter-unisatkz jupyter-unisatkz 0 Apr  4 12:07 cafe\n"
     ]
    }
   ],
   "source": [
    "ls -l cafe"
   ]
  },
  {
   "cell_type": "code",
   "execution_count": 9,
   "metadata": {},
   "outputs": [],
   "source": [
    "chmod o-w cafe"
   ]
  },
  {
   "cell_type": "code",
   "execution_count": 11,
   "metadata": {},
   "outputs": [],
   "source": [
    "# chmod o=u  || This is illigal"
   ]
  },
  {
   "cell_type": "markdown",
   "metadata": {},
   "source": [
    "## short hand permission options"
   ]
  },
  {
   "cell_type": "code",
   "execution_count": 12,
   "metadata": {},
   "outputs": [],
   "source": [
    "# numbers"
   ]
  },
  {
   "cell_type": "code",
   "execution_count": 13,
   "metadata": {},
   "outputs": [],
   "source": [
    "# Decimal 0-9 10 "
   ]
  },
  {
   "cell_type": "code",
   "execution_count": 14,
   "metadata": {},
   "outputs": [],
   "source": [
    "# Binary 0 1"
   ]
  },
  {
   "cell_type": "code",
   "execution_count": 15,
   "metadata": {},
   "outputs": [],
   "source": [
    "touch test"
   ]
  },
  {
   "cell_type": "code",
   "execution_count": 16,
   "metadata": {},
   "outputs": [
    {
     "name": "stdout",
     "output_type": "stream",
     "text": [
      "-rw-r--r-- 1 jupyter-unisatkz jupyter-unisatkz 0 Apr  4 12:40 test\n"
     ]
    }
   ],
   "source": [
    "ls -l test"
   ]
  },
  {
   "cell_type": "code",
   "execution_count": 17,
   "metadata": {},
   "outputs": [],
   "source": [
    "chmod 267 test"
   ]
  },
  {
   "cell_type": "code",
   "execution_count": 18,
   "metadata": {},
   "outputs": [
    {
     "name": "stdout",
     "output_type": "stream",
     "text": [
      "--w-rw-rwx 1 jupyter-unisatkz jupyter-unisatkz 0 Apr  4 12:40 test\n"
     ]
    }
   ],
   "source": [
    "ls -l test"
   ]
  },
  {
   "cell_type": "markdown",
   "metadata": {},
   "source": [
    "0 -- 000   no read no write no execute      \n",
    "1 -- 001   no read no write yes execute     \n",
    "2 -- 010   no read yes write no execute     \n",
    "3 -- 011   no read yes write yes execute     \n",
    "4 -- 100   yes read no write no execute     \n",
    "5 -- 101   yes read no write yes execute     \n",
    "6 -- 110   yes read yes write no execute    \n",
    "7 -- 111   yes read yes write yes execute    \n"
   ]
  },
  {
   "cell_type": "code",
   "execution_count": 20,
   "metadata": {},
   "outputs": [],
   "source": [
    "# 777  | user group other"
   ]
  },
  {
   "cell_type": "code",
   "execution_count": 21,
   "metadata": {},
   "outputs": [],
   "source": [
    "touch demo"
   ]
  },
  {
   "cell_type": "code",
   "execution_count": 22,
   "metadata": {},
   "outputs": [
    {
     "name": "stdout",
     "output_type": "stream",
     "text": [
      "-rw-r--r-- 1 jupyter-unisatkz jupyter-unisatkz 0 Apr  4 12:52 demo\n"
     ]
    }
   ],
   "source": [
    "ls -l demo"
   ]
  },
  {
   "cell_type": "code",
   "execution_count": 24,
   "metadata": {},
   "outputs": [],
   "source": [
    "# 110100100 == 644"
   ]
  },
  {
   "cell_type": "markdown",
   "metadata": {},
   "source": [
    "change permission so that : user can read write execute, so as the group, the other can only read "
   ]
  },
  {
   "cell_type": "code",
   "execution_count": 25,
   "metadata": {},
   "outputs": [],
   "source": [
    "# 111 111 100 ----> 7 7 4 -----> rwx rwx r"
   ]
  },
  {
   "cell_type": "code",
   "execution_count": 26,
   "metadata": {},
   "outputs": [],
   "source": [
    "chmod 774 demo"
   ]
  },
  {
   "cell_type": "code",
   "execution_count": 27,
   "metadata": {},
   "outputs": [
    {
     "name": "stdout",
     "output_type": "stream",
     "text": [
      "-rwxrwxr-- 1 jupyter-unisatkz jupyter-unisatkz 0 Apr  4 12:52 demo\n"
     ]
    }
   ],
   "source": [
    "ls -l demo"
   ]
  },
  {
   "cell_type": "code",
   "execution_count": 28,
   "metadata": {},
   "outputs": [],
   "source": [
    "chmod 755 demo"
   ]
  },
  {
   "cell_type": "code",
   "execution_count": 30,
   "metadata": {},
   "outputs": [
    {
     "name": "stdout",
     "output_type": "stream",
     "text": [
      "-rwxr-xr-x 1 jupyter-unisatkz jupyter-unisatkz 0 Apr  4 12:52 demo\n"
     ]
    }
   ],
   "source": [
    "ls -l demo "
   ]
  },
  {
   "cell_type": "markdown",
   "metadata": {},
   "source": [
    "7 -- 111 -- rwx    \n",
    "5 --- 101 -- rx"
   ]
  },
  {
   "cell_type": "code",
   "execution_count": 31,
   "metadata": {},
   "outputs": [],
   "source": [
    "#750"
   ]
  },
  {
   "cell_type": "code",
   "execution_count": 33,
   "metadata": {},
   "outputs": [],
   "source": [
    "# 111 101 000"
   ]
  },
  {
   "cell_type": "code",
   "execution_count": 34,
   "metadata": {},
   "outputs": [],
   "source": [
    "chmod 750 demo "
   ]
  },
  {
   "cell_type": "code",
   "execution_count": 35,
   "metadata": {},
   "outputs": [
    {
     "name": "stdout",
     "output_type": "stream",
     "text": [
      "-rwxr-x--- 1 jupyter-unisatkz jupyter-unisatkz 0 Apr  4 12:52 demo\n"
     ]
    }
   ],
   "source": [
    "ls -l demo"
   ]
  },
  {
   "cell_type": "markdown",
   "metadata": {},
   "source": [
    "permission on file is a little bit diffirent on a folder"
   ]
  },
  {
   "cell_type": "markdown",
   "metadata": {},
   "source": [
    "FILE RWX"
   ]
  },
  {
   "cell_type": "code",
   "execution_count": 36,
   "metadata": {},
   "outputs": [],
   "source": [
    "# FILE : r read, w write x execute"
   ]
  },
  {
   "cell_type": "code",
   "execution_count": 37,
   "metadata": {},
   "outputs": [],
   "source": [
    "# DIR : r you can read content of the dir\n",
    "# DIR : w you can write in to the dir (create file and dir inside)\n",
    "# DIR : x you can enter the dir (cd)"
   ]
  },
  {
   "cell_type": "code",
   "execution_count": 38,
   "metadata": {},
   "outputs": [
    {
     "name": "stdout",
     "output_type": "stream",
     "text": [
      "test\n"
     ]
    }
   ],
   "source": [
    "ls test"
   ]
  },
  {
   "cell_type": "code",
   "execution_count": 39,
   "metadata": {},
   "outputs": [
    {
     "name": "stdout",
     "output_type": "stream",
     "text": [
      "test: empty\n"
     ]
    }
   ],
   "source": [
    "file test"
   ]
  },
  {
   "cell_type": "code",
   "execution_count": 40,
   "metadata": {},
   "outputs": [
    {
     "name": "stdout",
     "output_type": "stream",
     "text": [
      "permis: directory\n"
     ]
    }
   ],
   "source": [
    "file permis"
   ]
  },
  {
   "cell_type": "code",
   "execution_count": 41,
   "metadata": {},
   "outputs": [
    {
     "name": "stdout",
     "output_type": "stream",
     "text": [
      "total 0\n"
     ]
    }
   ],
   "source": [
    "ls -l permis"
   ]
  },
  {
   "cell_type": "code",
   "execution_count": 42,
   "metadata": {},
   "outputs": [],
   "source": [
    "cd permis"
   ]
  },
  {
   "cell_type": "code",
   "execution_count": 43,
   "metadata": {},
   "outputs": [],
   "source": [
    "ls"
   ]
  },
  {
   "cell_type": "code",
   "execution_count": 44,
   "metadata": {},
   "outputs": [],
   "source": [
    "touch file1 "
   ]
  },
  {
   "cell_type": "code",
   "execution_count": 45,
   "metadata": {},
   "outputs": [],
   "source": [
    "touch file2"
   ]
  },
  {
   "cell_type": "code",
   "execution_count": 46,
   "metadata": {},
   "outputs": [],
   "source": [
    "touch file3"
   ]
  },
  {
   "cell_type": "code",
   "execution_count": 47,
   "metadata": {},
   "outputs": [
    {
     "name": "stdout",
     "output_type": "stream",
     "text": [
      "file1  file2  file3\n"
     ]
    }
   ],
   "source": [
    "ls "
   ]
  },
  {
   "cell_type": "code",
   "execution_count": 48,
   "metadata": {},
   "outputs": [],
   "source": [
    "cd .."
   ]
  },
  {
   "cell_type": "code",
   "execution_count": 49,
   "metadata": {},
   "outputs": [
    {
     "name": "stdout",
     "output_type": "stream",
     "text": [
      "total 0\n",
      "-rw-r--r-- 1 jupyter-unisatkz jupyter-unisatkz 0 Apr  4 13:12 file1\n",
      "-rw-r--r-- 1 jupyter-unisatkz jupyter-unisatkz 0 Apr  4 13:12 file2\n",
      "-rw-r--r-- 1 jupyter-unisatkz jupyter-unisatkz 0 Apr  4 13:12 file3\n"
     ]
    }
   ],
   "source": [
    "ls -l permis"
   ]
  },
  {
   "cell_type": "code",
   "execution_count": 50,
   "metadata": {},
   "outputs": [
    {
     "name": "stdout",
     "output_type": "stream",
     "text": [
      "file1  file2  file3\n"
     ]
    }
   ],
   "source": [
    "ls permis"
   ]
  },
  {
   "cell_type": "code",
   "execution_count": 51,
   "metadata": {},
   "outputs": [],
   "source": [
    "chmod 400 permis "
   ]
  },
  {
   "cell_type": "code",
   "execution_count": 52,
   "metadata": {},
   "outputs": [],
   "source": [
    "# 400 4 r ;"
   ]
  },
  {
   "cell_type": "code",
   "execution_count": 53,
   "metadata": {},
   "outputs": [
    {
     "name": "stdout",
     "output_type": "stream",
     "text": [
      "ls: cannot access 'permis/file3': Permission denied\n",
      "ls: cannot access 'permis/file2': Permission denied\n",
      "ls: cannot access 'permis/file1': Permission denied\n",
      "total 0\n",
      "-????????? ? ? ? ?            ? file1\n",
      "-????????? ? ? ? ?            ? file2\n",
      "-????????? ? ? ? ?            ? file3\n"
     ]
    },
    {
     "ename": "",
     "evalue": "1",
     "output_type": "error",
     "traceback": []
    }
   ],
   "source": [
    "ls -l permis"
   ]
  },
  {
   "cell_type": "code",
   "execution_count": 55,
   "metadata": {},
   "outputs": [],
   "source": [
    "chmod 100 permis"
   ]
  },
  {
   "cell_type": "code",
   "execution_count": 57,
   "metadata": {},
   "outputs": [
    {
     "name": "stdout",
     "output_type": "stream",
     "text": [
      "d--x------ 2 jupyter-unisatkz jupyter-unisatkz 4096 Apr  4 13:12 permis\n"
     ]
    }
   ],
   "source": [
    "ls -ld permis"
   ]
  },
  {
   "cell_type": "code",
   "execution_count": 58,
   "metadata": {},
   "outputs": [
    {
     "name": "stdout",
     "output_type": "stream",
     "text": [
      "ls: cannot open directory 'permis': Permission denied\n"
     ]
    },
    {
     "ename": "",
     "evalue": "2",
     "output_type": "error",
     "traceback": []
    }
   ],
   "source": [
    "ls permis"
   ]
  },
  {
   "cell_type": "code",
   "execution_count": 59,
   "metadata": {},
   "outputs": [],
   "source": [
    "chmod 500 permis"
   ]
  },
  {
   "cell_type": "code",
   "execution_count": 60,
   "metadata": {},
   "outputs": [
    {
     "name": "stdout",
     "output_type": "stream",
     "text": [
      "dr-x------ 2 jupyter-unisatkz jupyter-unisatkz 4096 Apr  4 13:12 permis\n"
     ]
    }
   ],
   "source": [
    "ls -ld permis"
   ]
  },
  {
   "cell_type": "code",
   "execution_count": 61,
   "metadata": {},
   "outputs": [
    {
     "name": "stdout",
     "output_type": "stream",
     "text": [
      "file1  file2  file3\n"
     ]
    }
   ],
   "source": [
    "ls permis"
   ]
  },
  {
   "cell_type": "code",
   "execution_count": 62,
   "metadata": {},
   "outputs": [],
   "source": [
    "cd permis"
   ]
  },
  {
   "cell_type": "code",
   "execution_count": 63,
   "metadata": {},
   "outputs": [
    {
     "name": "stdout",
     "output_type": "stream",
     "text": [
      "/home/jupyter-unisatkz/permis\n"
     ]
    }
   ],
   "source": [
    "pwd"
   ]
  },
  {
   "cell_type": "code",
   "execution_count": 64,
   "metadata": {},
   "outputs": [
    {
     "name": "stdout",
     "output_type": "stream",
     "text": [
      "touch: cannot touch 'file4': Permission denied\n"
     ]
    },
    {
     "ename": "",
     "evalue": "1",
     "output_type": "error",
     "traceback": []
    }
   ],
   "source": [
    "touch file4"
   ]
  },
  {
   "cell_type": "code",
   "execution_count": 65,
   "metadata": {},
   "outputs": [],
   "source": [
    "cd .."
   ]
  },
  {
   "cell_type": "markdown",
   "metadata": {},
   "source": [
    "7 = 4+2+1 user   \n",
    "7 group \n",
    "7 other  "
   ]
  },
  {
   "cell_type": "code",
   "execution_count": 66,
   "metadata": {},
   "outputs": [],
   "source": [
    "chmod 700 permis"
   ]
  },
  {
   "cell_type": "code",
   "execution_count": 67,
   "metadata": {},
   "outputs": [],
   "source": [
    "cd permis"
   ]
  },
  {
   "cell_type": "code",
   "execution_count": 68,
   "metadata": {},
   "outputs": [
    {
     "name": "stdout",
     "output_type": "stream",
     "text": [
      "/home/jupyter-unisatkz/permis\n"
     ]
    }
   ],
   "source": [
    "pwd"
   ]
  },
  {
   "cell_type": "code",
   "execution_count": 69,
   "metadata": {},
   "outputs": [],
   "source": [
    "touch file4"
   ]
  },
  {
   "cell_type": "code",
   "execution_count": 70,
   "metadata": {},
   "outputs": [
    {
     "name": "stdout",
     "output_type": "stream",
     "text": [
      "file1  file2  file3  file4\n"
     ]
    }
   ],
   "source": [
    "ls"
   ]
  },
  {
   "cell_type": "code",
   "execution_count": 71,
   "metadata": {},
   "outputs": [],
   "source": [
    "cd .."
   ]
  },
  {
   "cell_type": "code",
   "execution_count": 73,
   "metadata": {},
   "outputs": [
    {
     "name": "stdout",
     "output_type": "stream",
     "text": [
      "drwxr-xr-x 2 jupyter-unisatkz jupyter-unisatkz 4096 Apr  4 13:24 secret\n"
     ]
    }
   ],
   "source": [
    "ls -ld secret"
   ]
  },
  {
   "cell_type": "code",
   "execution_count": 74,
   "metadata": {},
   "outputs": [],
   "source": [
    "# chmod 705 (4+2+1) (0) (4+1)"
   ]
  },
  {
   "cell_type": "code",
   "execution_count": 75,
   "metadata": {},
   "outputs": [],
   "source": [
    "chmod 705 secret"
   ]
  },
  {
   "cell_type": "code",
   "execution_count": 76,
   "metadata": {},
   "outputs": [
    {
     "name": "stdout",
     "output_type": "stream",
     "text": [
      "drwx---r-x 2 jupyter-unisatkz jupyter-unisatkz 4096 Apr  4 13:24 secret\n"
     ]
    }
   ],
   "source": [
    "ls -ld secret"
   ]
  },
  {
   "cell_type": "markdown",
   "metadata": {},
   "source": [
    "##  root user"
   ]
  },
  {
   "cell_type": "markdown",
   "metadata": {},
   "source": [
    "if you are the root user , then you are superuser "
   ]
  },
  {
   "cell_type": "code",
   "execution_count": 77,
   "metadata": {},
   "outputs": [
    {
     "name": "stdout",
     "output_type": "stream",
     "text": [
      "bin    etc             lib         mkdir  root  srv       usr\n",
      "boot   home            lib64       mnt    run   swap.img  var\n",
      "cdrom  initrd.img      lost+found  opt    sbin  sys       vmlinuz\n",
      "dev    initrd.img.old  media       proc   snap  tmp       vmlinuz.old\n"
     ]
    }
   ],
   "source": [
    "ls /"
   ]
  },
  {
   "cell_type": "code",
   "execution_count": 78,
   "metadata": {},
   "outputs": [],
   "source": [
    "cd "
   ]
  },
  {
   "cell_type": "code",
   "execution_count": 79,
   "metadata": {},
   "outputs": [
    {
     "name": "stdout",
     "output_type": "stream",
     "text": [
      "10      abc    cafe      Mola    secret    unisat           z.jpg\n",
      "1.txt   abcd   Cola      ok      shared    Untitled1.ipynb\n",
      "2.txt   a.jpg  cs_books  permis  test      Untitled2.ipynb\n",
      "34.azg  a.mp3  c.txt     right   testfile  Untitled3.ipynb\n",
      "3.png   a.txt  demo      riight  Tola      Untitled.ipynb\n"
     ]
    }
   ],
   "source": [
    "ls"
   ]
  },
  {
   "cell_type": "code",
   "execution_count": 80,
   "metadata": {},
   "outputs": [
    {
     "name": "stdout",
     "output_type": "stream",
     "text": [
      "/home/jupyter-unisatkz\n"
     ]
    }
   ],
   "source": [
    "pwd"
   ]
  },
  {
   "cell_type": "code",
   "execution_count": 81,
   "metadata": {},
   "outputs": [],
   "source": [
    "cd /home"
   ]
  },
  {
   "cell_type": "code",
   "execution_count": 82,
   "metadata": {},
   "outputs": [
    {
     "name": "stdout",
     "output_type": "stream",
     "text": [
      "azat                   jupyter-cubefiction    jupyter-official-nanakai\n",
      "jupyter-admin          jupyter-danenok        jupyter-orissim\n",
      "jupyter-aiana178       jupyter-darganius      jupyter-tsagynysh\n",
      "jupyter-aigerimunisat  jupyter-ekdana         jupyter-unisat\n",
      "jupyter-aizadait       jupyter-inkar601       jupyter-unisatkz\n",
      "jupyter-amayakof       jupyter-kkenzh         jupyter-yeldana\n",
      "jupyter-amirkhan       jupyter-nazymungarova  jupyter-zhandos\n",
      "jupyter-arayka         jupyter-nuray.serkali  jupyter-zhanelbaltabay\n",
      "jupyter-aruzhan149     jupyter-nurike         jupyter-zhannaspace\n",
      "jupyter-aselleon       jupyter-nurlaura\n",
      "jupyter-azat           jupyter-nurlaura2\n"
     ]
    }
   ],
   "source": [
    "ls"
   ]
  },
  {
   "cell_type": "code",
   "execution_count": 83,
   "metadata": {},
   "outputs": [],
   "source": [
    "cd azat"
   ]
  },
  {
   "cell_type": "code",
   "execution_count": 84,
   "metadata": {},
   "outputs": [
    {
     "name": "stdout",
     "output_type": "stream",
     "text": [
      "jupyterhub-80.png  jupyter.png\n"
     ]
    }
   ],
   "source": [
    "ls"
   ]
  },
  {
   "cell_type": "code",
   "execution_count": 85,
   "metadata": {},
   "outputs": [],
   "source": [
    "cd .."
   ]
  },
  {
   "cell_type": "code",
   "execution_count": 86,
   "metadata": {},
   "outputs": [
    {
     "name": "stdout",
     "output_type": "stream",
     "text": [
      "jupyter-unisatkz\n"
     ]
    }
   ],
   "source": [
    "whoami"
   ]
  },
  {
   "cell_type": "markdown",
   "metadata": {},
   "source": [
    "## Filters"
   ]
  },
  {
   "cell_type": "markdown",
   "metadata": {},
   "source": [
    "### head"
   ]
  },
  {
   "cell_type": "code",
   "execution_count": 87,
   "metadata": {},
   "outputs": [],
   "source": [
    "# head [-number of lines to print] [path]"
   ]
  },
  {
   "cell_type": "code",
   "execution_count": 88,
   "metadata": {},
   "outputs": [
    {
     "name": "stdout",
     "output_type": "stream",
     "text": [
      "ls: cannot access 'c.txt': No such file or directory\n"
     ]
    },
    {
     "ename": "",
     "evalue": "2",
     "output_type": "error",
     "traceback": []
    }
   ],
   "source": [
    "ls c.txt"
   ]
  },
  {
   "cell_type": "code",
   "execution_count": 89,
   "metadata": {},
   "outputs": [
    {
     "name": "stdout",
     "output_type": "stream",
     "text": [
      "/home\n"
     ]
    }
   ],
   "source": [
    "pwd"
   ]
  },
  {
   "cell_type": "code",
   "execution_count": 90,
   "metadata": {},
   "outputs": [],
   "source": [
    "cd "
   ]
  },
  {
   "cell_type": "code",
   "execution_count": 91,
   "metadata": {},
   "outputs": [
    {
     "name": "stdout",
     "output_type": "stream",
     "text": [
      "10      abc    cafe      Mola    secret    unisat           z.jpg\n",
      "1.txt   abcd   Cola      ok      shared    Untitled1.ipynb\n",
      "2.txt   a.jpg  cs_books  permis  test      Untitled2.ipynb\n",
      "34.azg  a.mp3  c.txt     right   testfile  Untitled3.ipynb\n",
      "3.png   a.txt  demo      riight  Tola      Untitled.ipynb\n"
     ]
    }
   ],
   "source": [
    "ls"
   ]
  },
  {
   "cell_type": "code",
   "execution_count": 92,
   "metadata": {},
   "outputs": [
    {
     "name": "stdout",
     "output_type": "stream",
     "text": [
      "c.txt: ASCII text\n"
     ]
    }
   ],
   "source": [
    "file c.txt"
   ]
  },
  {
   "cell_type": "code",
   "execution_count": 93,
   "metadata": {},
   "outputs": [
    {
     "name": "stdout",
     "output_type": "stream",
     "text": [
      "desfsdafsdfadsfdsfsd\n",
      "fsdfdsfsdfsdfsad\n",
      "fsadfsdafasdfdsfasd\n",
      "fsdafdsafdsafsdfas\n",
      "fadsfdsfdsafadsf\n",
      "desfsdafsdfadsfdsfsd\n",
      "fsdfdsfsdfsdfsad\n",
      "fsadfsdafasdfdsfasd\n",
      "fsdafdsafdsafsdfas\n",
      "fadsfdsfdsafadsf\n"
     ]
    }
   ],
   "source": [
    "head c.txt"
   ]
  },
  {
   "cell_type": "code",
   "execution_count": 94,
   "metadata": {},
   "outputs": [
    {
     "name": "stdout",
     "output_type": "stream",
     "text": [
      "desfsdafsdfadsfdsfsd\n",
      "fsdfdsfsdfsdfsad\n",
      "fsadfsdafasdfdsfasd\n"
     ]
    }
   ],
   "source": [
    "head -3 c.txt"
   ]
  },
  {
   "cell_type": "code",
   "execution_count": 95,
   "metadata": {},
   "outputs": [
    {
     "name": "stdout",
     "output_type": "stream",
     "text": [
      "desfsdafsdfadsfdsfsd\n",
      "fsdfdsfsdfsdfsad\n",
      "fsadfsdafasdfdsfasd\n",
      "fsdafdsafdsafsdfas\n",
      "fadsfdsfdsafadsf\n",
      "desfsdafsdfadsfdsfsd\n",
      "fsdfdsfsdfsdfsad\n",
      "fsadfsdafasdfdsfasd\n",
      "fsdafdsafdsafsdfas\n",
      "fadsfdsfdsafadsf\n",
      "desfsdafsdfadsfdsfsd\n",
      "fsdfdsfsdfsdfsad\n",
      "fsadfsdafasdfdsfasd\n",
      "fsdafdsafdsafsdfas\n",
      "fadsfdsfdsafadsf\n",
      "desfsdafsdfadsfdsfsd\n",
      "fsdfdsfsdfsdfsad\n",
      "fsadfsdafasdfdsfasd\n",
      "fsdafdsafdsafsdfas\n",
      "fadsfdsfdsafadsf\n"
     ]
    }
   ],
   "source": [
    "head -20 c.txt"
   ]
  },
  {
   "cell_type": "markdown",
   "metadata": {},
   "source": [
    "tail [-number of lines to print] [path]"
   ]
  },
  {
   "cell_type": "code",
   "execution_count": 97,
   "metadata": {},
   "outputs": [
    {
     "name": "stdout",
     "output_type": "stream",
     "text": [
      "desfsdafsdfadsfdsfsd\n",
      "fsdfdsfsdfsdfsad\n",
      "fsadfsdafasdfdsfasd\n",
      "fsdafdsafdsafsdfas\n",
      "fadsfdsfdsafadsf\n",
      "Aynur\n",
      "Azat\n",
      "Aruzhan\n",
      "Arzu\n",
      "Aigerym"
     ]
    }
   ],
   "source": [
    "tail c.txt"
   ]
  },
  {
   "cell_type": "code",
   "execution_count": 98,
   "metadata": {},
   "outputs": [
    {
     "name": "stdout",
     "output_type": "stream",
     "text": [
      "Aynur\n",
      "Azat\n",
      "Aruzhan\n",
      "Arzu\n",
      "Aigerym"
     ]
    }
   ],
   "source": [
    "tail -5 c.txt"
   ]
  },
  {
   "cell_type": "code",
   "execution_count": 99,
   "metadata": {},
   "outputs": [
    {
     "name": "stdout",
     "output_type": "stream",
     "text": [
      "Fred apples 20\n",
      "Susy oranges 5\n",
      "Mark watermellons 12\n",
      "Robert pears 4\n",
      "Terry oranges 9\n",
      "Lisa peaches 7\n",
      "Susy oranges 12\n",
      "Mark grapes 39\n",
      "Anne mangoes 7\n",
      "Greg pineapples 3"
     ]
    }
   ],
   "source": [
    "cat a.txt"
   ]
  },
  {
   "cell_type": "code",
   "execution_count": 101,
   "metadata": {},
   "outputs": [
    {
     "name": "stdout",
     "output_type": "stream",
     "text": [
      "Fred apples 20\n",
      "Susy oranges 5\n",
      "Mark watermellons 12\n",
      "Robert pears 4\n",
      "Terry oranges 9\n",
      "Lisa peaches 7\n",
      "Susy oranges 12\n",
      "Mark grapes 39\n",
      "Anne mangoes 7\n",
      "Greg pineapples 3"
     ]
    }
   ],
   "source": [
    "head a.txt"
   ]
  },
  {
   "cell_type": "code",
   "execution_count": 102,
   "metadata": {},
   "outputs": [
    {
     "name": "stdout",
     "output_type": "stream",
     "text": [
      "Fred apples 20\n",
      "Susy oranges 5\n",
      "Mark watermellons 12\n",
      "Robert pears 4\n",
      "Terry oranges 9\n",
      "Lisa peaches 7\n",
      "Susy oranges 12\n",
      "Mark grapes 39\n",
      "Anne mangoes 7\n",
      "Greg pineapples 3"
     ]
    }
   ],
   "source": [
    "tail a.txt"
   ]
  },
  {
   "cell_type": "code",
   "execution_count": 103,
   "metadata": {},
   "outputs": [],
   "source": [
    "# sort [-option] [path]"
   ]
  },
  {
   "cell_type": "code",
   "execution_count": 104,
   "metadata": {},
   "outputs": [
    {
     "name": "stdout",
     "output_type": "stream",
     "text": [
      "Fred apples 20\n",
      "Susy oranges 5\n",
      "Mark watermellons 12\n",
      "Robert pears 4\n",
      "Terry oranges 9\n",
      "Lisa peaches 7\n",
      "Susy oranges 12\n",
      "Mark grapes 39\n",
      "Anne mangoes 7\n",
      "Greg pineapples 3"
     ]
    }
   ],
   "source": [
    "cat a.txt"
   ]
  },
  {
   "cell_type": "code",
   "execution_count": 105,
   "metadata": {},
   "outputs": [
    {
     "name": "stdout",
     "output_type": "stream",
     "text": [
      "Anne mangoes 7\n",
      "Fred apples 20\n",
      "Greg pineapples 3\n",
      "Lisa peaches 7\n",
      "Mark grapes 39\n",
      "Mark watermellons 12\n",
      "Robert pears 4\n",
      "Susy oranges 12\n",
      "Susy oranges 5\n",
      "Terry oranges 9\n"
     ]
    }
   ],
   "source": [
    "sort a.txt"
   ]
  },
  {
   "cell_type": "code",
   "execution_count": 108,
   "metadata": {},
   "outputs": [],
   "source": [
    "# nl --- number line"
   ]
  },
  {
   "cell_type": "code",
   "execution_count": 109,
   "metadata": {},
   "outputs": [
    {
     "name": "stdout",
     "output_type": "stream",
     "text": [
      "     1\tFred apples 20\n",
      "     2\tSusy oranges 5\n",
      "     3\tMark watermellons 12\n",
      "     4\tRobert pears 4\n",
      "     5\tTerry oranges 9\n",
      "     6\tLisa peaches 7\n",
      "     7\tSusy oranges 12\n",
      "     8\tMark grapes 39\n",
      "     9\tAnne mangoes 7\n",
      "    10\tGreg pineapples 3\n"
     ]
    }
   ],
   "source": [
    "nl a.txt"
   ]
  },
  {
   "cell_type": "code",
   "execution_count": 111,
   "metadata": {},
   "outputs": [
    {
     "name": "stdout",
     "output_type": "stream",
     "text": [
      "       1. Fred apples 20\n",
      "       2. Susy oranges 5\n",
      "       3. Mark watermellons 12\n",
      "       4. Robert pears 4\n",
      "       5. Terry oranges 9\n",
      "       6. Lisa peaches 7\n",
      "       7. Susy oranges 12\n",
      "       8. Mark grapes 39\n",
      "       9. Anne mangoes 7\n",
      "      10. Greg pineapples 3\n"
     ]
    }
   ],
   "source": [
    "nl -s '. ' -w 8 a.txt"
   ]
  },
  {
   "cell_type": "code",
   "execution_count": 113,
   "metadata": {},
   "outputs": [
    {
     "name": "stdout",
     "output_type": "stream",
     "text": [
      "         1*. Fred apples 20\n",
      "         2*. Susy oranges 5\n",
      "         3*. Mark watermellons 12\n",
      "         4*. Robert pears 4\n",
      "         5*. Terry oranges 9\n",
      "         6*. Lisa peaches 7\n",
      "         7*. Susy oranges 12\n",
      "         8*. Mark grapes 39\n",
      "         9*. Anne mangoes 7\n",
      "        10*. Greg pineapples 3\n"
     ]
    }
   ],
   "source": [
    "nl -s '*. ' -w 10 a.txt"
   ]
  },
  {
   "cell_type": "code",
   "execution_count": 114,
   "metadata": {},
   "outputs": [],
   "source": [
    "# wc -- word count"
   ]
  },
  {
   "cell_type": "code",
   "execution_count": 115,
   "metadata": {},
   "outputs": [],
   "source": [
    "# wc [-optiopns][path"
   ]
  },
  {
   "cell_type": "code",
   "execution_count": 116,
   "metadata": {},
   "outputs": [
    {
     "name": "stdout",
     "output_type": "stream",
     "text": [
      "  9  30 160 a.txt\n"
     ]
    }
   ],
   "source": [
    "wc a.txt"
   ]
  },
  {
   "cell_type": "code",
   "execution_count": 118,
   "metadata": {},
   "outputs": [
    {
     "name": "stdout",
     "output_type": "stream",
     "text": [
      "9 a.txt\n"
     ]
    }
   ],
   "source": [
    "wc -l a.txt"
   ]
  },
  {
   "cell_type": "code",
   "execution_count": 119,
   "metadata": {},
   "outputs": [
    {
     "name": "stdout",
     "output_type": "stream",
     "text": [
      "30 a.txt\n"
     ]
    }
   ],
   "source": [
    "wc -w a.txt"
   ]
  },
  {
   "cell_type": "code",
   "execution_count": 120,
   "metadata": {},
   "outputs": [
    {
     "name": "stdout",
     "output_type": "stream",
     "text": [
      "160 a.txt\n"
     ]
    }
   ],
   "source": [
    "wc -m a.txt"
   ]
  },
  {
   "cell_type": "code",
   "execution_count": 121,
   "metadata": {},
   "outputs": [],
   "source": [
    "# cut [-option] [path]"
   ]
  },
  {
   "cell_type": "code",
   "execution_count": 124,
   "metadata": {},
   "outputs": [
    {
     "name": "stdout",
     "output_type": "stream",
     "text": [
      "Fred\n",
      "Susy\n",
      "Mark\n",
      "Robert\n",
      "Terry\n",
      "Lisa\n",
      "Susy\n",
      "Mark\n",
      "Anne\n",
      "Greg\n"
     ]
    }
   ],
   "source": [
    "cut -f 1 -d ' ' a.txt"
   ]
  },
  {
   "cell_type": "code",
   "execution_count": 125,
   "metadata": {},
   "outputs": [
    {
     "name": "stdout",
     "output_type": "stream",
     "text": [
      "Fred apples\n",
      "Susy oranges\n",
      "Mark watermellons\n",
      "Robert pears\n",
      "Terry oranges\n",
      "Lisa peaches\n",
      "Susy oranges\n",
      "Mark grapes\n",
      "Anne mangoes\n",
      "Greg pineapples\n"
     ]
    }
   ],
   "source": [
    "cut -f 1,2 -d ' ' a.txt"
   ]
  },
  {
   "cell_type": "code",
   "execution_count": 126,
   "metadata": {},
   "outputs": [],
   "source": [
    "# uniq unique "
   ]
  },
  {
   "cell_type": "code",
   "execution_count": 127,
   "metadata": {},
   "outputs": [
    {
     "name": "stdout",
     "output_type": "stream",
     "text": [
      "Fred apples 20\n",
      "Susy oranges 5\n",
      "Mark watermellons 12\n",
      "Robert pears 4\n",
      "Terry oranges 9\n",
      "Lisa peaches 7\n",
      "Susy oranges 12\n",
      "Susy oranges 12\n",
      "Mark grapes 39\n",
      "Anne mangoes 7\n",
      "Greg pineapples 3"
     ]
    }
   ],
   "source": [
    "cat a.txt"
   ]
  },
  {
   "cell_type": "code",
   "execution_count": 128,
   "metadata": {},
   "outputs": [
    {
     "name": "stdout",
     "output_type": "stream",
     "text": [
      "Fred apples 20\n",
      "Susy oranges 5\n",
      "Mark watermellons 12\n",
      "Robert pears 4\n",
      "Terry oranges 9\n",
      "Lisa peaches 7\n",
      "Susy oranges 12\n",
      "Mark grapes 39\n",
      "Anne mangoes 7\n",
      "Greg pineapples 3\n"
     ]
    }
   ],
   "source": [
    "uniq a.txt"
   ]
  },
  {
   "cell_type": "code",
   "execution_count": 129,
   "metadata": {},
   "outputs": [
    {
     "name": "stdout",
     "output_type": "stream",
     "text": [
      "Fred apples 20\n",
      "Susy oranges 5\n",
      "Mark watermellons 12\n",
      "Robert pears 4\n",
      "Terry oranges 9\n",
      "Lisa peaches 7\n",
      "Susy oranges 12\n",
      "Susy oranges 12\n",
      "Mark grapes 39\n",
      "Anne mangoes 7\n",
      "Greg pineapples 3"
     ]
    }
   ],
   "source": [
    "cat a.txt"
   ]
  },
  {
   "cell_type": "code",
   "execution_count": 130,
   "metadata": {},
   "outputs": [],
   "source": [
    "# cat --- tac"
   ]
  },
  {
   "cell_type": "code",
   "execution_count": 131,
   "metadata": {},
   "outputs": [
    {
     "name": "stdout",
     "output_type": "stream",
     "text": [
      "Greg pineapples 3Anne mangoes 7\n",
      "Mark grapes 39\n",
      "Susy oranges 12\n",
      "Susy oranges 12\n",
      "Lisa peaches 7\n",
      "Terry oranges 9\n",
      "Robert pears 4\n",
      "Mark watermellons 12\n",
      "Susy oranges 5\n",
      "Fred apples 20\n"
     ]
    }
   ],
   "source": [
    "tac a.txt"
   ]
  },
  {
   "cell_type": "markdown",
   "metadata": {},
   "source": [
    "this is text mode now"
   ]
  },
  {
   "cell_type": "code",
   "execution_count": 133,
   "metadata": {},
   "outputs": [],
   "source": [
    "# short cut to change to text mode :\n",
    "# first ESC then m"
   ]
  },
  {
   "cell_type": "code",
   "execution_count": null,
   "metadata": {},
   "outputs": [],
   "source": []
  }
 ],
 "metadata": {
  "kernelspec": {
   "display_name": "Bash",
   "language": "bash",
   "name": "bash"
  },
  "language_info": {
   "codemirror_mode": "shell",
   "file_extension": ".sh",
   "mimetype": "text/x-sh",
   "name": "bash"
  }
 },
 "nbformat": 4,
 "nbformat_minor": 4
}
